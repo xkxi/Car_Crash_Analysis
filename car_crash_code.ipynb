{
 "cells": [
  {
   "cell_type": "markdown",
   "id": "9707bc62",
   "metadata": {},
   "source": [
    "## CAR CRASH Severe Accident Research ##\n",
    "<br>\n",
    "\n",
    "<li>  Data Preparation </li>\n",
    "<li>  Fit Model </li>\n",
    "<li>  Validate Model </li>\n",
    "<li>  Use Model </li>\n"
   ]
  },
  {
   "cell_type": "markdown",
   "id": "153eb6ef",
   "metadata": {},
   "source": [
    "### Step 1: Data Prep ### "
   ]
  },
  {
   "cell_type": "code",
   "execution_count": 18,
   "id": "0e33cf4e",
   "metadata": {},
   "outputs": [
    {
     "data": {
      "text/html": [
       "<div>\n",
       "<style scoped>\n",
       "    .dataframe tbody tr th:only-of-type {\n",
       "        vertical-align: middle;\n",
       "    }\n",
       "\n",
       "    .dataframe tbody tr th {\n",
       "        vertical-align: top;\n",
       "    }\n",
       "\n",
       "    .dataframe thead th {\n",
       "        text-align: right;\n",
       "    }\n",
       "</style>\n",
       "<table border=\"1\" class=\"dataframe\">\n",
       "  <thead>\n",
       "    <tr style=\"text-align: right;\">\n",
       "      <th></th>\n",
       "      <th>X</th>\n",
       "      <th>Y</th>\n",
       "      <th>OBJECTID</th>\n",
       "      <th>DOCUMENT_NBR</th>\n",
       "      <th>CRASH_YEAR</th>\n",
       "      <th>CRASH_DT</th>\n",
       "      <th>CRASH_MILITARY_TM</th>\n",
       "      <th>CRASH_SEVERITY</th>\n",
       "      <th>K_PEOPLE</th>\n",
       "      <th>A_PEOPLE</th>\n",
       "      <th>...</th>\n",
       "      <th>AREA_TYPE</th>\n",
       "      <th>SYSTEM</th>\n",
       "      <th>VSP</th>\n",
       "      <th>OWNERSHIP</th>\n",
       "      <th>PLAN_DISTRICT</th>\n",
       "      <th>MPO_NAME</th>\n",
       "      <th>RTE_NM</th>\n",
       "      <th>RNS_MP</th>\n",
       "      <th>NODE</th>\n",
       "      <th>OFFSET</th>\n",
       "    </tr>\n",
       "  </thead>\n",
       "  <tbody>\n",
       "    <tr>\n",
       "      <th>0</th>\n",
       "      <td>-78.870556</td>\n",
       "      <td>38.645544</td>\n",
       "      <td>1</td>\n",
       "      <td>152915206</td>\n",
       "      <td>2015</td>\n",
       "      <td>2015/10/16 17:00:00+00</td>\n",
       "      <td>1700</td>\n",
       "      <td>A</td>\n",
       "      <td>0</td>\n",
       "      <td>2</td>\n",
       "      <td>...</td>\n",
       "      <td>Rural</td>\n",
       "      <td>VDOT Primary</td>\n",
       "      <td>2</td>\n",
       "      <td>1. State Hwy Agency</td>\n",
       "      <td>Central Shenandoah</td>\n",
       "      <td>NaN</td>\n",
       "      <td>R-VA   SR00259SB</td>\n",
       "      <td>9.63</td>\n",
       "      <td>586049.0</td>\n",
       "      <td>834.0</td>\n",
       "    </tr>\n",
       "    <tr>\n",
       "      <th>1</th>\n",
       "      <td>-77.134973</td>\n",
       "      <td>38.943531</td>\n",
       "      <td>2</td>\n",
       "      <td>153060033</td>\n",
       "      <td>2015</td>\n",
       "      <td>2015/10/10 17:00:00+00</td>\n",
       "      <td>2350</td>\n",
       "      <td>O</td>\n",
       "      <td>0</td>\n",
       "      <td>0</td>\n",
       "      <td>...</td>\n",
       "      <td>Urban</td>\n",
       "      <td>NonVDOT secondary</td>\n",
       "      <td>7</td>\n",
       "      <td>4. Federal Roads</td>\n",
       "      <td>Northern Virginia</td>\n",
       "      <td>NOVA</td>\n",
       "      <td>R-VA   OT90072NB</td>\n",
       "      <td>0.41</td>\n",
       "      <td>NaN</td>\n",
       "      <td>NaN</td>\n",
       "    </tr>\n",
       "    <tr>\n",
       "      <th>2</th>\n",
       "      <td>-79.499399</td>\n",
       "      <td>36.660702</td>\n",
       "      <td>3</td>\n",
       "      <td>153035144</td>\n",
       "      <td>2015</td>\n",
       "      <td>2015/10/29 17:00:00+00</td>\n",
       "      <td>1124</td>\n",
       "      <td>B</td>\n",
       "      <td>0</td>\n",
       "      <td>0</td>\n",
       "      <td>...</td>\n",
       "      <td>Rural</td>\n",
       "      <td>VDOT Secondary</td>\n",
       "      <td>6</td>\n",
       "      <td>1. State Hwy Agency</td>\n",
       "      <td>West Piedmont</td>\n",
       "      <td>NaN</td>\n",
       "      <td>R-VA071SC00750SB</td>\n",
       "      <td>5.90</td>\n",
       "      <td>518624.0</td>\n",
       "      <td>137.0</td>\n",
       "    </tr>\n",
       "    <tr>\n",
       "      <th>3</th>\n",
       "      <td>-77.336244</td>\n",
       "      <td>38.545770</td>\n",
       "      <td>4</td>\n",
       "      <td>150975078</td>\n",
       "      <td>2015</td>\n",
       "      <td>2015/04/06 17:00:00+00</td>\n",
       "      <td>900</td>\n",
       "      <td>O</td>\n",
       "      <td>0</td>\n",
       "      <td>0</td>\n",
       "      <td>...</td>\n",
       "      <td>Urban</td>\n",
       "      <td>VDOT Secondary</td>\n",
       "      <td>7</td>\n",
       "      <td>1. State Hwy Agency</td>\n",
       "      <td>Northern Virginia</td>\n",
       "      <td>NOVA</td>\n",
       "      <td>R-VA076SC00619EB</td>\n",
       "      <td>25.74</td>\n",
       "      <td>NaN</td>\n",
       "      <td>NaN</td>\n",
       "    </tr>\n",
       "    <tr>\n",
       "      <th>4</th>\n",
       "      <td>-79.337225</td>\n",
       "      <td>36.581073</td>\n",
       "      <td>5</td>\n",
       "      <td>152335159</td>\n",
       "      <td>2015</td>\n",
       "      <td>2015/08/21 17:00:00+00</td>\n",
       "      <td>751</td>\n",
       "      <td>O</td>\n",
       "      <td>0</td>\n",
       "      <td>0</td>\n",
       "      <td>...</td>\n",
       "      <td>Urban</td>\n",
       "      <td>NonVDOT primary</td>\n",
       "      <td>6</td>\n",
       "      <td>3. City or Town Hwy Agency</td>\n",
       "      <td>West Piedmont</td>\n",
       "      <td>DAN</td>\n",
       "      <td>R-VA   US00058WB</td>\n",
       "      <td>301.27</td>\n",
       "      <td>519895.0</td>\n",
       "      <td>876.0</td>\n",
       "    </tr>\n",
       "  </tbody>\n",
       "</table>\n",
       "<p>5 rows × 69 columns</p>\n",
       "</div>"
      ],
      "text/plain": [
       "           X          Y  OBJECTID  DOCUMENT_NBR  CRASH_YEAR  \\\n",
       "0 -78.870556  38.645544         1     152915206        2015   \n",
       "1 -77.134973  38.943531         2     153060033        2015   \n",
       "2 -79.499399  36.660702         3     153035144        2015   \n",
       "3 -77.336244  38.545770         4     150975078        2015   \n",
       "4 -79.337225  36.581073         5     152335159        2015   \n",
       "\n",
       "                 CRASH_DT  CRASH_MILITARY_TM CRASH_SEVERITY  K_PEOPLE  \\\n",
       "0  2015/10/16 17:00:00+00               1700              A         0   \n",
       "1  2015/10/10 17:00:00+00               2350              O         0   \n",
       "2  2015/10/29 17:00:00+00               1124              B         0   \n",
       "3  2015/04/06 17:00:00+00                900              O         0   \n",
       "4  2015/08/21 17:00:00+00                751              O         0   \n",
       "\n",
       "   A_PEOPLE  ...  AREA_TYPE             SYSTEM  VSP  \\\n",
       "0         2  ...      Rural       VDOT Primary    2   \n",
       "1         0  ...      Urban  NonVDOT secondary    7   \n",
       "2         0  ...      Rural     VDOT Secondary    6   \n",
       "3         0  ...      Urban     VDOT Secondary    7   \n",
       "4         0  ...      Urban    NonVDOT primary    6   \n",
       "\n",
       "                    OWNERSHIP       PLAN_DISTRICT  MPO_NAME            RTE_NM  \\\n",
       "0         1. State Hwy Agency  Central Shenandoah       NaN  R-VA   SR00259SB   \n",
       "1            4. Federal Roads   Northern Virginia      NOVA  R-VA   OT90072NB   \n",
       "2         1. State Hwy Agency       West Piedmont       NaN  R-VA071SC00750SB   \n",
       "3         1. State Hwy Agency   Northern Virginia      NOVA  R-VA076SC00619EB   \n",
       "4  3. City or Town Hwy Agency       West Piedmont       DAN  R-VA   US00058WB   \n",
       "\n",
       "   RNS_MP      NODE OFFSET  \n",
       "0    9.63  586049.0  834.0  \n",
       "1    0.41       NaN    NaN  \n",
       "2    5.90  518624.0  137.0  \n",
       "3   25.74       NaN    NaN  \n",
       "4  301.27  519895.0  876.0  \n",
       "\n",
       "[5 rows x 69 columns]"
      ]
     },
     "execution_count": 18,
     "metadata": {},
     "output_type": "execute_result"
    }
   ],
   "source": [
    "#read data from csv file\n",
    "import pandas as pd\n",
    "\n",
    "df = pd.read_csv(\"C:/Users/xiaop/Documents/car_crash_04_23/Crash_Data.csv\")\n",
    "df.head()"
   ]
  },
  {
   "cell_type": "code",
   "execution_count": 19,
   "id": "3fdd9dfa",
   "metadata": {},
   "outputs": [
    {
     "data": {
      "text/plain": [
       "0    922559\n",
       "1     54787\n",
       "Name: Fatal_Severe, dtype: int64"
      ]
     },
     "execution_count": 19,
     "metadata": {},
     "output_type": "execute_result"
    }
   ],
   "source": [
    "#create target variable as fatal or severe injury\n",
    "\n",
    "df['Fatal_Severe'] = df[\"CRASH_SEVERITY\"].apply(lambda x: 1 if (x =='A') | (x=='K') else 0)\n",
    "df[\"Fatal_Severe\"].value_counts()"
   ]
  },
  {
   "cell_type": "code",
   "execution_count": 20,
   "id": "66053ef2",
   "metadata": {},
   "outputs": [
    {
     "data": {
      "text/plain": [
       "<AxesSubplot:xlabel='CRASH_YEAR'>"
      ]
     },
     "execution_count": 20,
     "metadata": {},
     "output_type": "execute_result"
    },
    {
     "data": {
      "image/png": "[encoded data removed]",
      "text/plain": [
       "<Figure size 640x480 with 1 Axes>"
      ]
     },
     "metadata": {},
     "output_type": "display_data"
    }
   ],
   "source": [
    "#create target variable over time\n",
    "import matplotlib.pyplot as plt\n",
    "\n",
    "df1 = pd.DataFrame(df.groupby(['CRASH_YEAR']).Fatal_Severe.mean()).reset_index()\n",
    "df1.plot(x=\"CRASH_YEAR\", y=\"Fatal_Severe\")"
   ]
  },
  {
   "cell_type": "code",
   "execution_count": 21,
   "id": "5cde52e8",
   "metadata": {},
   "outputs": [
    {
     "data": {
      "text/plain": [
       "Fatal_Severe                     0\n",
       "WEATHER_CONDITION                0\n",
       "LIGHT_CONDITION                  0\n",
       "ALCOHOL_NOTALCOHOL               0\n",
       "DISTRACTED_NOTDISTRACTED         0\n",
       "DRUG_NODRUG                      0\n",
       "SPEED_NOTSPEED                   0\n",
       "SPEED_DIFF_MAX              783400\n",
       "dtype: int64"
      ]
     },
     "execution_count": 21,
     "metadata": {},
     "output_type": "execute_result"
    }
   ],
   "source": [
    "#create new dataset which includes variables that we are interested in\\\n",
    "\n",
    "new_df = df[['Fatal_Severe', 'WEATHER_CONDITION', 'LIGHT_CONDITION', 'ALCOHOL_NOTALCOHOL', 'DISTRACTED_NOTDISTRACTED', 'DRUG_NODRUG', 'SPEED_NOTSPEED', 'SPEED_DIFF_MAX']]\n",
    "new_df.isnull().sum()"
   ]
  },
  {
   "cell_type": "code",
   "execution_count": 22,
   "id": "dc2c5fbe",
   "metadata": {},
   "outputs": [
    {
     "name": "stderr",
     "output_type": "stream",
     "text": [
      "C:\\Users\\xiaop\\AppData\\Local\\Temp\\ipykernel_9812\\2702913730.py:4: SettingWithCopyWarning: \n",
      "A value is trying to be set on a copy of a slice from a DataFrame.\n",
      "Try using .loc[row_indexer,col_indexer] = value instead\n",
      "\n",
      "See the caveats in the documentation: https://pandas.pydata.org/pandas-docs/stable/user_guide/indexing.html#returning-a-view-versus-a-copy\n",
      "  new_df['SPEED_DIFF_MAX'] = new_df['SPEED_DIFF_MAX'].replace(np.nan, 0)\n"
     ]
    },
    {
     "data": {
      "text/plain": [
       "Fatal_Severe                0\n",
       "WEATHER_CONDITION           0\n",
       "LIGHT_CONDITION             0\n",
       "ALCOHOL_NOTALCOHOL          0\n",
       "DISTRACTED_NOTDISTRACTED    0\n",
       "DRUG_NODRUG                 0\n",
       "SPEED_NOTSPEED              0\n",
       "SPEED_DIFF_MAX              0\n",
       "dtype: int64"
      ]
     },
     "execution_count": 22,
     "metadata": {},
     "output_type": "execute_result"
    }
   ],
   "source": [
    "#imputing missing data for column SPEED_DIFF_MAX to be 0\n",
    "import numpy as np\n",
    "new_df[new_df['SPEED_DIFF_MAX'].isnull()]['SPEED_NOTSPEED'].value_counts()  #proves that when SPEED_DIFF_MAX is NaN the driver did not go over the speed limit\n",
    "new_df['SPEED_DIFF_MAX'] = new_df['SPEED_DIFF_MAX'].replace(np.nan, 0)\n",
    "new_df.isnull().sum()"
   ]
  },
  {
   "cell_type": "code",
   "execution_count": 23,
   "id": "5961772e",
   "metadata": {},
   "outputs": [
    {
     "name": "stdout",
     "output_type": "stream",
     "text": [
      "WEATHER_CONDITION\n",
      "1. No Adverse Condition (Clear/Cloudy)    0.058578\n",
      "10. Blowing Sand, Soil, Dirt, or Snow     0.052778\n",
      "11. Severe Crosswinds                     0.081481\n",
      "3. Fog                                    0.067519\n",
      "4. Mist                                   0.058302\n",
      "5. Rain                                   0.043228\n",
      "6. Snow                                   0.029842\n",
      "7. Sleet/Hail                             0.040924\n",
      "8. Smoke/Dust                             0.114286\n",
      "9. Other                                  0.048363\n",
      "Not Applicable                            0.000000\n",
      "Name: Fatal_Severe, dtype: float64\n",
      "LIGHT_CONDITION\n",
      "1. Dawn                                0.044008\n",
      "2. Daylight                            0.050446\n",
      "3. Dusk                                0.057630\n",
      "4. Darkness - Road Lighted             0.059869\n",
      "5. Darkness - Road Not Lighted         0.079906\n",
      "6. Darkness - Unknown Road Lighting    0.053379\n",
      "7. Unknown                             0.019597\n",
      "Name: Fatal_Severe, dtype: float64\n",
      "ALCOHOL_NOTALCOHOL\n",
      "No     0.049560\n",
      "Yes    0.162682\n",
      "Name: Fatal_Severe, dtype: float64\n",
      "DISTRACTED_NOTDISTRACTED\n",
      "No     0.055324\n",
      "Yes    0.059182\n",
      "Name: Fatal_Severe, dtype: float64\n",
      "DRUG_NODRUG\n",
      "No     0.055073\n",
      "Yes    0.160925\n",
      "Name: Fatal_Severe, dtype: float64\n"
     ]
    }
   ],
   "source": [
    "#grouping character variables with multiple levels to reduce number of levels\n",
    "for i in ['WEATHER_CONDITION', 'LIGHT_CONDITION', 'ALCOHOL_NOTALCOHOL', 'DISTRACTED_NOTDISTRACTED', 'DRUG_NODRUG']:\n",
    "    print(df.groupby([i]).Fatal_Severe.mean())"
   ]
  },
  {
   "cell_type": "code",
   "execution_count": 24,
   "id": "3c50e087",
   "metadata": {},
   "outputs": [
    {
     "data": {
      "text/plain": [
       "<AxesSubplot:xlabel='WEATHER_CONDITION'>"
      ]
     },
     "execution_count": 24,
     "metadata": {},
     "output_type": "execute_result"
    },
    {
     "data": {
      "image/png": "[encoded data removed]",
      "text/plain": [
       "<Figure size 640x480 with 1 Axes>"
      ]
     },
     "metadata": {},
     "output_type": "display_data"
    }
   ],
   "source": [
    "dfw = pd.DataFrame(df.groupby(['WEATHER_CONDITION']).Fatal_Severe.mean()).reset_index()\n",
    "dfw.plot(x=\"WEATHER_CONDITION\", y=\"Fatal_Severe\")"
   ]
  },
  {
   "cell_type": "code",
   "execution_count": 25,
   "id": "102cb358",
   "metadata": {},
   "outputs": [
    {
     "name": "stdout",
     "output_type": "stream",
     "text": [
      "WEATHER_CONDITION\n",
      "1. No Adverse Condition (Clear/Cloudy)    47365\n",
      "10. Blowing Sand, Soil, Dirt, or Snow        19\n",
      "11. Severe Crosswinds                        33\n",
      "3. Fog                                      322\n",
      "4. Mist                                     796\n",
      "5. Rain                                    5543\n",
      "6. Snow                                     477\n",
      "7. Sleet/Hail                               163\n",
      "8. Smoke/Dust                                 4\n",
      "9. Other                                     65\n",
      "Not Applicable                                0\n",
      "Name: Fatal_Severe, dtype: int64\n",
      "LIGHT_CONDITION\n",
      "1. Dawn                                 1160\n",
      "2. Daylight                            32492\n",
      "3. Dusk                                 1630\n",
      "4. Darkness - Road Lighted              7734\n",
      "5. Darkness - Road Not Lighted         11612\n",
      "6. Darkness - Unknown Road Lighting      124\n",
      "7. Unknown                                35\n",
      "Name: Fatal_Severe, dtype: int64\n",
      "ALCOHOL_NOTALCOHOL\n",
      "No     45656\n",
      "Yes     9131\n",
      "Name: Fatal_Severe, dtype: int64\n",
      "DISTRACTED_NOTDISTRACTED\n",
      "No     43803\n",
      "Yes    10984\n",
      "Name: Fatal_Severe, dtype: int64\n",
      "DRUG_NODRUG\n",
      "No     53325\n",
      "Yes     1462\n",
      "Name: Fatal_Severe, dtype: int64\n"
     ]
    }
   ],
   "source": [
    "for i in ['WEATHER_CONDITION', 'LIGHT_CONDITION', 'ALCOHOL_NOTALCOHOL', 'DISTRACTED_NOTDISTRACTED', 'DRUG_NODRUG']:\n",
    "    print(df.groupby([i]).Fatal_Severe.sum())"
   ]
  },
  {
   "cell_type": "code",
   "execution_count": 26,
   "id": "f109937f",
   "metadata": {},
   "outputs": [
    {
     "data": {
      "text/plain": [
       "<AxesSubplot:xlabel='LIGHT_CONDITION'>"
      ]
     },
     "execution_count": 26,
     "metadata": {},
     "output_type": "execute_result"
    },
    {
     "data": {
      "image/png": "[encoded data removed]",
      "text/plain": [
       "<Figure size 640x480 with 1 Axes>"
      ]
     },
     "metadata": {},
     "output_type": "display_data"
    }
   ],
   "source": [
    "dfl = pd.DataFrame(df.groupby(['LIGHT_CONDITION']).Fatal_Severe.mean()).reset_index()\n",
    "dfl.plot(x=\"LIGHT_CONDITION\", y=\"Fatal_Severe\")"
   ]
  },
  {
   "cell_type": "code",
   "execution_count": 27,
   "id": "609ad06d",
   "metadata": {},
   "outputs": [
    {
     "name": "stderr",
     "output_type": "stream",
     "text": [
      "C:\\Users\\xiaop\\AppData\\Local\\Temp\\ipykernel_9812\\3506680270.py:1: SettingWithCopyWarning: \n",
      "A value is trying to be set on a copy of a slice from a DataFrame.\n",
      "Try using .loc[row_indexer,col_indexer] = value instead\n",
      "\n",
      "See the caveats in the documentation: https://pandas.pydata.org/pandas-docs/stable/user_guide/indexing.html#returning-a-view-versus-a-copy\n",
      "  new_df['WEATHER'] = new_df[\"WEATHER_CONDITION\"].apply(lambda x: \"Bad_Weather\" if x in (\"10. Blowing Sand, Soil, Dirt, or Snow\", \"11. Severe Crosswinds\", \"3. Fog\", \"4. Mist\", \"6. Snow\", \"7. Sleet/Hail\", \"8. Smoke/Dust\", \"9. Other\", \"Not Applicable\") else x)\n"
     ]
    },
    {
     "data": {
      "text/plain": [
       "1. No Adverse Condition (Clear/Cloudy)    808585\n",
       "5. Rain                                   128227\n",
       "Bad_Weather                                40534\n",
       "Name: WEATHER, dtype: int64"
      ]
     },
     "execution_count": 27,
     "metadata": {},
     "output_type": "execute_result"
    }
   ],
   "source": [
    "new_df['WEATHER'] = new_df[\"WEATHER_CONDITION\"].apply(lambda x: \"Bad_Weather\" if x in (\"10. Blowing Sand, Soil, Dirt, or Snow\", \"11. Severe Crosswinds\", \"3. Fog\", \"4. Mist\", \"6. Snow\", \"7. Sleet/Hail\", \"8. Smoke/Dust\", \"9. Other\", \"Not Applicable\") else x)\n",
    "new_df.WEATHER.value_counts()"
   ]
  },
  {
   "cell_type": "code",
   "execution_count": 28,
   "id": "b9ec43a2",
   "metadata": {},
   "outputs": [
    {
     "name": "stderr",
     "output_type": "stream",
     "text": [
      "C:\\Users\\xiaop\\AppData\\Local\\Temp\\ipykernel_9812\\3656702248.py:1: SettingWithCopyWarning: \n",
      "A value is trying to be set on a copy of a slice from a DataFrame.\n",
      "Try using .loc[row_indexer,col_indexer] = value instead\n",
      "\n",
      "See the caveats in the documentation: https://pandas.pydata.org/pandas-docs/stable/user_guide/indexing.html#returning-a-view-versus-a-copy\n",
      "  new_df['LIGHT'] = new_df[\"LIGHT_CONDITION\"].apply(lambda x: \"Semi_Dark\" if x in (\"1. Dawn\", \"3. Dusk\", \"4. Darkness - Road Lighted\", \"6. Darkness - Unknown Road Lighting\", \"7. Unknown\") else x)\n"
     ]
    },
    {
     "data": {
      "text/plain": [
       "2. Daylight                       644092\n",
       "Semi_Dark                         187934\n",
       "5. Darkness - Road Not Lighted    145320\n",
       "Name: LIGHT, dtype: int64"
      ]
     },
     "execution_count": 28,
     "metadata": {},
     "output_type": "execute_result"
    }
   ],
   "source": [
    "new_df['LIGHT'] = new_df[\"LIGHT_CONDITION\"].apply(lambda x: \"Semi_Dark\" if x in (\"1. Dawn\", \"3. Dusk\", \"4. Darkness - Road Lighted\", \"6. Darkness - Unknown Road Lighting\", \"7. Unknown\") else x)\n",
    "new_df.LIGHT.value_counts()"
   ]
  },
  {
   "cell_type": "code",
   "execution_count": 29,
   "id": "62948c03",
   "metadata": {},
   "outputs": [
    {
     "data": {
      "text/html": [
       "<div>\n",
       "<style scoped>\n",
       "    .dataframe tbody tr th:only-of-type {\n",
       "        vertical-align: middle;\n",
       "    }\n",
       "\n",
       "    .dataframe tbody tr th {\n",
       "        vertical-align: top;\n",
       "    }\n",
       "\n",
       "    .dataframe thead th {\n",
       "        text-align: right;\n",
       "    }\n",
       "</style>\n",
       "<table border=\"1\" class=\"dataframe\">\n",
       "  <thead>\n",
       "    <tr style=\"text-align: right;\">\n",
       "      <th></th>\n",
       "      <th>Fatal_Severe</th>\n",
       "      <th>SPEED_DIFF_MAX</th>\n",
       "      <th>WEATHER_CONDITION_1. No Adverse Condition (Clear/Cloudy)</th>\n",
       "      <th>WEATHER_CONDITION_10. Blowing Sand, Soil, Dirt, or Snow</th>\n",
       "      <th>WEATHER_CONDITION_11. Severe Crosswinds</th>\n",
       "      <th>WEATHER_CONDITION_3. Fog</th>\n",
       "      <th>WEATHER_CONDITION_4. Mist</th>\n",
       "      <th>WEATHER_CONDITION_5. Rain</th>\n",
       "      <th>WEATHER_CONDITION_6. Snow</th>\n",
       "      <th>WEATHER_CONDITION_7. Sleet/Hail</th>\n",
       "      <th>...</th>\n",
       "      <th>DRUG_NODRUG_No</th>\n",
       "      <th>DRUG_NODRUG_Yes</th>\n",
       "      <th>SPEED_NOTSPEED_No</th>\n",
       "      <th>SPEED_NOTSPEED_Yes</th>\n",
       "      <th>WEATHER_1. No Adverse Condition (Clear/Cloudy)</th>\n",
       "      <th>WEATHER_5. Rain</th>\n",
       "      <th>WEATHER_Bad_Weather</th>\n",
       "      <th>LIGHT_2. Daylight</th>\n",
       "      <th>LIGHT_5. Darkness - Road Not Lighted</th>\n",
       "      <th>LIGHT_Semi_Dark</th>\n",
       "    </tr>\n",
       "  </thead>\n",
       "  <tbody>\n",
       "    <tr>\n",
       "      <th>0</th>\n",
       "      <td>1</td>\n",
       "      <td>3.0</td>\n",
       "      <td>1</td>\n",
       "      <td>0</td>\n",
       "      <td>0</td>\n",
       "      <td>0</td>\n",
       "      <td>0</td>\n",
       "      <td>0</td>\n",
       "      <td>0</td>\n",
       "      <td>0</td>\n",
       "      <td>...</td>\n",
       "      <td>1</td>\n",
       "      <td>0</td>\n",
       "      <td>0</td>\n",
       "      <td>1</td>\n",
       "      <td>1</td>\n",
       "      <td>0</td>\n",
       "      <td>0</td>\n",
       "      <td>1</td>\n",
       "      <td>0</td>\n",
       "      <td>0</td>\n",
       "    </tr>\n",
       "    <tr>\n",
       "      <th>1</th>\n",
       "      <td>0</td>\n",
       "      <td>10.0</td>\n",
       "      <td>1</td>\n",
       "      <td>0</td>\n",
       "      <td>0</td>\n",
       "      <td>0</td>\n",
       "      <td>0</td>\n",
       "      <td>0</td>\n",
       "      <td>0</td>\n",
       "      <td>0</td>\n",
       "      <td>...</td>\n",
       "      <td>1</td>\n",
       "      <td>0</td>\n",
       "      <td>0</td>\n",
       "      <td>1</td>\n",
       "      <td>1</td>\n",
       "      <td>0</td>\n",
       "      <td>0</td>\n",
       "      <td>0</td>\n",
       "      <td>1</td>\n",
       "      <td>0</td>\n",
       "    </tr>\n",
       "    <tr>\n",
       "      <th>2</th>\n",
       "      <td>0</td>\n",
       "      <td>0.0</td>\n",
       "      <td>1</td>\n",
       "      <td>0</td>\n",
       "      <td>0</td>\n",
       "      <td>0</td>\n",
       "      <td>0</td>\n",
       "      <td>0</td>\n",
       "      <td>0</td>\n",
       "      <td>0</td>\n",
       "      <td>...</td>\n",
       "      <td>1</td>\n",
       "      <td>0</td>\n",
       "      <td>1</td>\n",
       "      <td>0</td>\n",
       "      <td>1</td>\n",
       "      <td>0</td>\n",
       "      <td>0</td>\n",
       "      <td>1</td>\n",
       "      <td>0</td>\n",
       "      <td>0</td>\n",
       "    </tr>\n",
       "    <tr>\n",
       "      <th>3</th>\n",
       "      <td>0</td>\n",
       "      <td>0.0</td>\n",
       "      <td>1</td>\n",
       "      <td>0</td>\n",
       "      <td>0</td>\n",
       "      <td>0</td>\n",
       "      <td>0</td>\n",
       "      <td>0</td>\n",
       "      <td>0</td>\n",
       "      <td>0</td>\n",
       "      <td>...</td>\n",
       "      <td>1</td>\n",
       "      <td>0</td>\n",
       "      <td>1</td>\n",
       "      <td>0</td>\n",
       "      <td>1</td>\n",
       "      <td>0</td>\n",
       "      <td>0</td>\n",
       "      <td>1</td>\n",
       "      <td>0</td>\n",
       "      <td>0</td>\n",
       "    </tr>\n",
       "    <tr>\n",
       "      <th>4</th>\n",
       "      <td>0</td>\n",
       "      <td>0.0</td>\n",
       "      <td>1</td>\n",
       "      <td>0</td>\n",
       "      <td>0</td>\n",
       "      <td>0</td>\n",
       "      <td>0</td>\n",
       "      <td>0</td>\n",
       "      <td>0</td>\n",
       "      <td>0</td>\n",
       "      <td>...</td>\n",
       "      <td>1</td>\n",
       "      <td>0</td>\n",
       "      <td>1</td>\n",
       "      <td>0</td>\n",
       "      <td>1</td>\n",
       "      <td>0</td>\n",
       "      <td>0</td>\n",
       "      <td>1</td>\n",
       "      <td>0</td>\n",
       "      <td>0</td>\n",
       "    </tr>\n",
       "    <tr>\n",
       "      <th>...</th>\n",
       "      <td>...</td>\n",
       "      <td>...</td>\n",
       "      <td>...</td>\n",
       "      <td>...</td>\n",
       "      <td>...</td>\n",
       "      <td>...</td>\n",
       "      <td>...</td>\n",
       "      <td>...</td>\n",
       "      <td>...</td>\n",
       "      <td>...</td>\n",
       "      <td>...</td>\n",
       "      <td>...</td>\n",
       "      <td>...</td>\n",
       "      <td>...</td>\n",
       "      <td>...</td>\n",
       "      <td>...</td>\n",
       "      <td>...</td>\n",
       "      <td>...</td>\n",
       "      <td>...</td>\n",
       "      <td>...</td>\n",
       "      <td>...</td>\n",
       "    </tr>\n",
       "    <tr>\n",
       "      <th>977341</th>\n",
       "      <td>0</td>\n",
       "      <td>0.0</td>\n",
       "      <td>0</td>\n",
       "      <td>0</td>\n",
       "      <td>0</td>\n",
       "      <td>0</td>\n",
       "      <td>0</td>\n",
       "      <td>1</td>\n",
       "      <td>0</td>\n",
       "      <td>0</td>\n",
       "      <td>...</td>\n",
       "      <td>1</td>\n",
       "      <td>0</td>\n",
       "      <td>1</td>\n",
       "      <td>0</td>\n",
       "      <td>0</td>\n",
       "      <td>1</td>\n",
       "      <td>0</td>\n",
       "      <td>1</td>\n",
       "      <td>0</td>\n",
       "      <td>0</td>\n",
       "    </tr>\n",
       "    <tr>\n",
       "      <th>977342</th>\n",
       "      <td>0</td>\n",
       "      <td>0.0</td>\n",
       "      <td>1</td>\n",
       "      <td>0</td>\n",
       "      <td>0</td>\n",
       "      <td>0</td>\n",
       "      <td>0</td>\n",
       "      <td>0</td>\n",
       "      <td>0</td>\n",
       "      <td>0</td>\n",
       "      <td>...</td>\n",
       "      <td>1</td>\n",
       "      <td>0</td>\n",
       "      <td>1</td>\n",
       "      <td>0</td>\n",
       "      <td>1</td>\n",
       "      <td>0</td>\n",
       "      <td>0</td>\n",
       "      <td>1</td>\n",
       "      <td>0</td>\n",
       "      <td>0</td>\n",
       "    </tr>\n",
       "    <tr>\n",
       "      <th>977343</th>\n",
       "      <td>0</td>\n",
       "      <td>0.0</td>\n",
       "      <td>1</td>\n",
       "      <td>0</td>\n",
       "      <td>0</td>\n",
       "      <td>0</td>\n",
       "      <td>0</td>\n",
       "      <td>0</td>\n",
       "      <td>0</td>\n",
       "      <td>0</td>\n",
       "      <td>...</td>\n",
       "      <td>1</td>\n",
       "      <td>0</td>\n",
       "      <td>1</td>\n",
       "      <td>0</td>\n",
       "      <td>1</td>\n",
       "      <td>0</td>\n",
       "      <td>0</td>\n",
       "      <td>1</td>\n",
       "      <td>0</td>\n",
       "      <td>0</td>\n",
       "    </tr>\n",
       "    <tr>\n",
       "      <th>977344</th>\n",
       "      <td>0</td>\n",
       "      <td>0.0</td>\n",
       "      <td>0</td>\n",
       "      <td>0</td>\n",
       "      <td>0</td>\n",
       "      <td>0</td>\n",
       "      <td>0</td>\n",
       "      <td>1</td>\n",
       "      <td>0</td>\n",
       "      <td>0</td>\n",
       "      <td>...</td>\n",
       "      <td>1</td>\n",
       "      <td>0</td>\n",
       "      <td>1</td>\n",
       "      <td>0</td>\n",
       "      <td>0</td>\n",
       "      <td>1</td>\n",
       "      <td>0</td>\n",
       "      <td>0</td>\n",
       "      <td>0</td>\n",
       "      <td>1</td>\n",
       "    </tr>\n",
       "    <tr>\n",
       "      <th>977345</th>\n",
       "      <td>0</td>\n",
       "      <td>0.0</td>\n",
       "      <td>1</td>\n",
       "      <td>0</td>\n",
       "      <td>0</td>\n",
       "      <td>0</td>\n",
       "      <td>0</td>\n",
       "      <td>0</td>\n",
       "      <td>0</td>\n",
       "      <td>0</td>\n",
       "      <td>...</td>\n",
       "      <td>1</td>\n",
       "      <td>0</td>\n",
       "      <td>1</td>\n",
       "      <td>0</td>\n",
       "      <td>1</td>\n",
       "      <td>0</td>\n",
       "      <td>0</td>\n",
       "      <td>1</td>\n",
       "      <td>0</td>\n",
       "      <td>0</td>\n",
       "    </tr>\n",
       "  </tbody>\n",
       "</table>\n",
       "<p>977346 rows × 34 columns</p>\n",
       "</div>"
      ],
      "text/plain": [
       "        Fatal_Severe  SPEED_DIFF_MAX  \\\n",
       "0                  1             3.0   \n",
       "1                  0            10.0   \n",
       "2                  0             0.0   \n",
       "3                  0             0.0   \n",
       "4                  0             0.0   \n",
       "...              ...             ...   \n",
       "977341             0             0.0   \n",
       "977342             0             0.0   \n",
       "977343             0             0.0   \n",
       "977344             0             0.0   \n",
       "977345             0             0.0   \n",
       "\n",
       "        WEATHER_CONDITION_1. No Adverse Condition (Clear/Cloudy)  \\\n",
       "0                                                       1          \n",
       "1                                                       1          \n",
       "2                                                       1          \n",
       "3                                                       1          \n",
       "4                                                       1          \n",
       "...                                                   ...          \n",
       "977341                                                  0          \n",
       "977342                                                  1          \n",
       "977343                                                  1          \n",
       "977344                                                  0          \n",
       "977345                                                  1          \n",
       "\n",
       "        WEATHER_CONDITION_10. Blowing Sand, Soil, Dirt, or Snow  \\\n",
       "0                                                       0         \n",
       "1                                                       0         \n",
       "2                                                       0         \n",
       "3                                                       0         \n",
       "4                                                       0         \n",
       "...                                                   ...         \n",
       "977341                                                  0         \n",
       "977342                                                  0         \n",
       "977343                                                  0         \n",
       "977344                                                  0         \n",
       "977345                                                  0         \n",
       "\n",
       "        WEATHER_CONDITION_11. Severe Crosswinds  WEATHER_CONDITION_3. Fog  \\\n",
       "0                                             0                         0   \n",
       "1                                             0                         0   \n",
       "2                                             0                         0   \n",
       "3                                             0                         0   \n",
       "4                                             0                         0   \n",
       "...                                         ...                       ...   \n",
       "977341                                        0                         0   \n",
       "977342                                        0                         0   \n",
       "977343                                        0                         0   \n",
       "977344                                        0                         0   \n",
       "977345                                        0                         0   \n",
       "\n",
       "        WEATHER_CONDITION_4. Mist  WEATHER_CONDITION_5. Rain  \\\n",
       "0                               0                          0   \n",
       "1                               0                          0   \n",
       "2                               0                          0   \n",
       "3                               0                          0   \n",
       "4                               0                          0   \n",
       "...                           ...                        ...   \n",
       "977341                          0                          1   \n",
       "977342                          0                          0   \n",
       "977343                          0                          0   \n",
       "977344                          0                          1   \n",
       "977345                          0                          0   \n",
       "\n",
       "        WEATHER_CONDITION_6. Snow  WEATHER_CONDITION_7. Sleet/Hail  ...  \\\n",
       "0                               0                                0  ...   \n",
       "1                               0                                0  ...   \n",
       "2                               0                                0  ...   \n",
       "3                               0                                0  ...   \n",
       "4                               0                                0  ...   \n",
       "...                           ...                              ...  ...   \n",
       "977341                          0                                0  ...   \n",
       "977342                          0                                0  ...   \n",
       "977343                          0                                0  ...   \n",
       "977344                          0                                0  ...   \n",
       "977345                          0                                0  ...   \n",
       "\n",
       "        DRUG_NODRUG_No  DRUG_NODRUG_Yes  SPEED_NOTSPEED_No  \\\n",
       "0                    1                0                  0   \n",
       "1                    1                0                  0   \n",
       "2                    1                0                  1   \n",
       "3                    1                0                  1   \n",
       "4                    1                0                  1   \n",
       "...                ...              ...                ...   \n",
       "977341               1                0                  1   \n",
       "977342               1                0                  1   \n",
       "977343               1                0                  1   \n",
       "977344               1                0                  1   \n",
       "977345               1                0                  1   \n",
       "\n",
       "        SPEED_NOTSPEED_Yes  WEATHER_1. No Adverse Condition (Clear/Cloudy)  \\\n",
       "0                        1                                               1   \n",
       "1                        1                                               1   \n",
       "2                        0                                               1   \n",
       "3                        0                                               1   \n",
       "4                        0                                               1   \n",
       "...                    ...                                             ...   \n",
       "977341                   0                                               0   \n",
       "977342                   0                                               1   \n",
       "977343                   0                                               1   \n",
       "977344                   0                                               0   \n",
       "977345                   0                                               1   \n",
       "\n",
       "        WEATHER_5. Rain  WEATHER_Bad_Weather  LIGHT_2. Daylight  \\\n",
       "0                     0                    0                  1   \n",
       "1                     0                    0                  0   \n",
       "2                     0                    0                  1   \n",
       "3                     0                    0                  1   \n",
       "4                     0                    0                  1   \n",
       "...                 ...                  ...                ...   \n",
       "977341                1                    0                  1   \n",
       "977342                0                    0                  1   \n",
       "977343                0                    0                  1   \n",
       "977344                1                    0                  0   \n",
       "977345                0                    0                  1   \n",
       "\n",
       "        LIGHT_5. Darkness - Road Not Lighted  LIGHT_Semi_Dark  \n",
       "0                                          0                0  \n",
       "1                                          1                0  \n",
       "2                                          0                0  \n",
       "3                                          0                0  \n",
       "4                                          0                0  \n",
       "...                                      ...              ...  \n",
       "977341                                     0                0  \n",
       "977342                                     0                0  \n",
       "977343                                     0                0  \n",
       "977344                                     0                1  \n",
       "977345                                     0                0  \n",
       "\n",
       "[977346 rows x 34 columns]"
      ]
     },
     "execution_count": 29,
     "metadata": {},
     "output_type": "execute_result"
    }
   ],
   "source": [
    "pd.get_dummies(new_df)"
   ]
  },
  {
   "cell_type": "code",
   "execution_count": 30,
   "id": "8a6ab8d2",
   "metadata": {},
   "outputs": [
    {
     "data": {
      "text/plain": [
       "Clear          808585\n",
       "Rain           128227\n",
       "Bad_Weather     40534\n",
       "Name: WEATHER, dtype: int64"
      ]
     },
     "execution_count": 30,
     "metadata": {},
     "output_type": "execute_result"
    }
   ],
   "source": [
    "new_df = new_df.replace({'5. Darkness - Road Not Lighted': 'Dark', '2. Daylight': \"Daylight\", \"1. No Adverse Condition (Clear/Cloudy)\": \"Clear\", \"5. Rain\": \"Rain\"})\n",
    "new_df.WEATHER.value_counts()"
   ]
  },
  {
   "cell_type": "code",
   "execution_count": 48,
   "id": "7de8e157",
   "metadata": {},
   "outputs": [
    {
     "name": "stdout",
     "output_type": "stream",
     "text": [
      "13.656724576249337\n",
      "10.709103681110932\n"
     ]
    }
   ],
   "source": [
    "#standardize variable and create dummy variable\n",
    "import math\n",
    "\n",
    "mean_dff = df[(df['SPEED_DIFF_MAX']<100)]['SPEED_DIFF_MAX'].mean() # max_diff will be capped at 65\n",
    "std_dff = df[(df['SPEED_DIFF_MAX']<100)]['SPEED_DIFF_MAX'].std()\n",
    "#new_df['S_SPEED_DIFF'] = new_df[\"SPEED_DIFF_MAX\"].apply(lambda x: 1/(1+math.exp((mean_dff-x)/std_dff)) if x<=100 else 1/(1+math.exp((mean_dff-100)/std_dff)))\n",
    "new_df['S_SPEED_DIFF'] = new_df[\"SPEED_DIFF_MAX\"].apply(lambda x: (x-mean_dff)/std_dff if x<=100 else (100-mean_dff)/std_dff)\n",
    "\n",
    "new_df2 = new_df[['Fatal_Severe', 'WEATHER', 'LIGHT', 'ALCOHOL_NOTALCOHOL', 'DISTRACTED_NOTDISTRACTED', 'DRUG_NODRUG', 'S_SPEED_DIFF']]\n",
    "fin_df = pd.get_dummies(new_df2)\n",
    "print(mean_dff)\n",
    "print(std_dff)"
   ]
  },
  {
   "cell_type": "code",
   "execution_count": 15,
   "id": "8dd59c58",
   "metadata": {},
   "outputs": [
    {
     "data": {
      "text/plain": [
       "count    977346.000000\n",
       "mean          0.266820\n",
       "std           0.139212\n",
       "min           0.212827\n",
       "25%           0.212827\n",
       "50%           0.212827\n",
       "75%           0.212827\n",
       "max           0.993195\n",
       "Name: S_SPEED_DIFF, dtype: float64"
      ]
     },
     "execution_count": 15,
     "metadata": {},
     "output_type": "execute_result"
    }
   ],
   "source": [
    "# describe distribution of standardized and transformed speed diff\n",
    "new_df['S_SPEED_DIFF'].describe()"
   ]
  },
  {
   "cell_type": "code",
   "execution_count": 16,
   "id": "db88e395",
   "metadata": {},
   "outputs": [
    {
     "data": {
      "text/html": [
       "<div>\n",
       "<style scoped>\n",
       "    .dataframe tbody tr th:only-of-type {\n",
       "        vertical-align: middle;\n",
       "    }\n",
       "\n",
       "    .dataframe tbody tr th {\n",
       "        vertical-align: top;\n",
       "    }\n",
       "\n",
       "    .dataframe thead th {\n",
       "        text-align: right;\n",
       "    }\n",
       "</style>\n",
       "<table border=\"1\" class=\"dataframe\">\n",
       "  <thead>\n",
       "    <tr style=\"text-align: right;\">\n",
       "      <th></th>\n",
       "      <th>Fatal_Severe</th>\n",
       "      <th>S_SPEED_DIFF</th>\n",
       "      <th>WEATHER_Bad_Weather</th>\n",
       "      <th>WEATHER_Clear</th>\n",
       "      <th>WEATHER_Rain</th>\n",
       "      <th>LIGHT_Dark</th>\n",
       "      <th>LIGHT_Daylight</th>\n",
       "      <th>LIGHT_Semi_Dark</th>\n",
       "      <th>ALCOHOL_NOTALCOHOL_No</th>\n",
       "      <th>ALCOHOL_NOTALCOHOL_Yes</th>\n",
       "      <th>DISTRACTED_NOTDISTRACTED_No</th>\n",
       "      <th>DISTRACTED_NOTDISTRACTED_Yes</th>\n",
       "      <th>DRUG_NODRUG_No</th>\n",
       "      <th>DRUG_NODRUG_Yes</th>\n",
       "    </tr>\n",
       "  </thead>\n",
       "  <tbody>\n",
       "    <tr>\n",
       "      <th>0</th>\n",
       "      <td>1</td>\n",
       "      <td>0.265495</td>\n",
       "      <td>0</td>\n",
       "      <td>1</td>\n",
       "      <td>0</td>\n",
       "      <td>0</td>\n",
       "      <td>1</td>\n",
       "      <td>0</td>\n",
       "      <td>1</td>\n",
       "      <td>0</td>\n",
       "      <td>0</td>\n",
       "      <td>1</td>\n",
       "      <td>1</td>\n",
       "      <td>0</td>\n",
       "    </tr>\n",
       "    <tr>\n",
       "      <th>1</th>\n",
       "      <td>0</td>\n",
       "      <td>0.415790</td>\n",
       "      <td>0</td>\n",
       "      <td>1</td>\n",
       "      <td>0</td>\n",
       "      <td>1</td>\n",
       "      <td>0</td>\n",
       "      <td>0</td>\n",
       "      <td>0</td>\n",
       "      <td>1</td>\n",
       "      <td>0</td>\n",
       "      <td>1</td>\n",
       "      <td>1</td>\n",
       "      <td>0</td>\n",
       "    </tr>\n",
       "    <tr>\n",
       "      <th>2</th>\n",
       "      <td>0</td>\n",
       "      <td>0.212827</td>\n",
       "      <td>0</td>\n",
       "      <td>1</td>\n",
       "      <td>0</td>\n",
       "      <td>0</td>\n",
       "      <td>1</td>\n",
       "      <td>0</td>\n",
       "      <td>1</td>\n",
       "      <td>0</td>\n",
       "      <td>1</td>\n",
       "      <td>0</td>\n",
       "      <td>1</td>\n",
       "      <td>0</td>\n",
       "    </tr>\n",
       "    <tr>\n",
       "      <th>3</th>\n",
       "      <td>0</td>\n",
       "      <td>0.212827</td>\n",
       "      <td>0</td>\n",
       "      <td>1</td>\n",
       "      <td>0</td>\n",
       "      <td>0</td>\n",
       "      <td>1</td>\n",
       "      <td>0</td>\n",
       "      <td>1</td>\n",
       "      <td>0</td>\n",
       "      <td>1</td>\n",
       "      <td>0</td>\n",
       "      <td>1</td>\n",
       "      <td>0</td>\n",
       "    </tr>\n",
       "    <tr>\n",
       "      <th>4</th>\n",
       "      <td>0</td>\n",
       "      <td>0.212827</td>\n",
       "      <td>0</td>\n",
       "      <td>1</td>\n",
       "      <td>0</td>\n",
       "      <td>0</td>\n",
       "      <td>1</td>\n",
       "      <td>0</td>\n",
       "      <td>1</td>\n",
       "      <td>0</td>\n",
       "      <td>1</td>\n",
       "      <td>0</td>\n",
       "      <td>1</td>\n",
       "      <td>0</td>\n",
       "    </tr>\n",
       "  </tbody>\n",
       "</table>\n",
       "</div>"
      ],
      "text/plain": [
       "   Fatal_Severe  S_SPEED_DIFF  WEATHER_Bad_Weather  WEATHER_Clear  \\\n",
       "0             1      0.265495                    0              1   \n",
       "1             0      0.415790                    0              1   \n",
       "2             0      0.212827                    0              1   \n",
       "3             0      0.212827                    0              1   \n",
       "4             0      0.212827                    0              1   \n",
       "\n",
       "   WEATHER_Rain  LIGHT_Dark  LIGHT_Daylight  LIGHT_Semi_Dark  \\\n",
       "0             0           0               1                0   \n",
       "1             0           1               0                0   \n",
       "2             0           0               1                0   \n",
       "3             0           0               1                0   \n",
       "4             0           0               1                0   \n",
       "\n",
       "   ALCOHOL_NOTALCOHOL_No  ALCOHOL_NOTALCOHOL_Yes  DISTRACTED_NOTDISTRACTED_No  \\\n",
       "0                      1                       0                            0   \n",
       "1                      0                       1                            0   \n",
       "2                      1                       0                            1   \n",
       "3                      1                       0                            1   \n",
       "4                      1                       0                            1   \n",
       "\n",
       "   DISTRACTED_NOTDISTRACTED_Yes  DRUG_NODRUG_No  DRUG_NODRUG_Yes  \n",
       "0                             1               1                0  \n",
       "1                             1               1                0  \n",
       "2                             0               1                0  \n",
       "3                             0               1                0  \n",
       "4                             0               1                0  "
      ]
     },
     "execution_count": 16,
     "metadata": {},
     "output_type": "execute_result"
    }
   ],
   "source": [
    "fin_df.head()"
   ]
  },
  {
   "cell_type": "code",
   "execution_count": 78,
   "id": "3d822e95",
   "metadata": {},
   "outputs": [],
   "source": [
    "# save the data as a parquet file\n",
    "fin_df.to_csv('C:/Users/xiaop/Documents/car_crash_04_23/Crash_Data_Final.csv', sep=',')"
   ]
  },
  {
   "cell_type": "markdown",
   "id": "f25c517c",
   "metadata": {},
   "source": [
    "### Step 2: Fit Logistic Regression Model ### "
   ]
  },
  {
   "cell_type": "code",
   "execution_count": 51,
   "id": "248f1906",
   "metadata": {},
   "outputs": [],
   "source": [
    "# read in the dataset which can be used for model development\n",
    "import pandas as pd\n",
    "import numpy as np\n",
    "fin_df = pd.read_csv('C:/Users/xiaop/Documents/car_crash_04_23/Crash_Data_Final.csv', sep=',').drop('Unnamed: 0', axis = 1)"
   ]
  },
  {
   "cell_type": "code",
   "execution_count": 52,
   "id": "97191233",
   "metadata": {},
   "outputs": [],
   "source": [
    "#split sample to build logistic regression and validate model\n",
    "from sklearn.model_selection import train_test_split\n",
    "y_data = fin_df['Fatal_Severe']\n",
    "x_data = fin_df.drop('Fatal_Severe', axis = 1)\n",
    "x_train, x_test, y_train, y_test = train_test_split(x_data, y_data,test_size = .3)"
   ]
  },
  {
   "cell_type": "code",
   "execution_count": 53,
   "id": "ffa4f91d",
   "metadata": {},
   "outputs": [
    {
     "data": {
      "text/plain": [
       "0.05620324435570393"
      ]
     },
     "execution_count": 53,
     "metadata": {},
     "output_type": "execute_result"
    }
   ],
   "source": [
    "y_train.mean()"
   ]
  },
  {
   "cell_type": "code",
   "execution_count": 54,
   "id": "245dc3f6",
   "metadata": {},
   "outputs": [
    {
     "data": {
      "text/plain": [
       "LogisticRegression()"
      ]
     },
     "execution_count": 54,
     "metadata": {},
     "output_type": "execute_result"
    }
   ],
   "source": [
    "from sklearn.linear_model import LogisticRegression\n",
    "model = LogisticRegression()\n",
    "model.fit(x_train, y_train)"
   ]
  },
  {
   "cell_type": "markdown",
   "id": "c15afd8e",
   "metadata": {},
   "source": [
    "### Validate Models on Test Sample ###"
   ]
  },
  {
   "cell_type": "code",
   "execution_count": 55,
   "id": "14be4069",
   "metadata": {},
   "outputs": [],
   "source": [
    "y_pred = model.predict(x_test)"
   ]
  },
  {
   "cell_type": "code",
   "execution_count": 56,
   "id": "a7b3239d",
   "metadata": {},
   "outputs": [
    {
     "data": {
      "text/plain": [
       "array([[276816,     52],\n",
       "       [ 16297,     39]], dtype=int64)"
      ]
     },
     "execution_count": 56,
     "metadata": {},
     "output_type": "execute_result"
    }
   ],
   "source": [
    "#create confusion matrix\n",
    "from sklearn.metrics import confusion_matrix\n",
    "confusion_matrix = confusion_matrix(y_test, y_pred)\n",
    "confusion_matrix"
   ]
  },
  {
   "cell_type": "code",
   "execution_count": 57,
   "id": "d0b7fe94",
   "metadata": {},
   "outputs": [
    {
     "name": "stdout",
     "output_type": "stream",
     "text": [
      "              precision    recall  f1-score   support\n",
      "\n",
      "           0       0.94      1.00      0.97    276868\n",
      "           1       0.43      0.00      0.00     16336\n",
      "\n",
      "    accuracy                           0.94    293204\n",
      "   macro avg       0.69      0.50      0.49    293204\n",
      "weighted avg       0.92      0.94      0.92    293204\n",
      "\n"
     ]
    }
   ],
   "source": [
    "# understand model\n",
    "from sklearn.metrics import classification_report\n",
    "print(classification_report(y_test, y_pred))"
   ]
  },
  {
   "cell_type": "code",
   "execution_count": 58,
   "id": "b71b90c2",
   "metadata": {},
   "outputs": [
    {
     "data": {
      "text/plain": [
       "array([[ 0.33822239, -0.2859129 ,  0.01608316, -0.31397674,  0.00521937,\n",
       "        -0.25967209, -0.32935377, -0.85626215,  0.27245566, -0.29578506,\n",
       "        -0.28802143, -0.63276845,  0.04896196]])"
      ]
     },
     "execution_count": 58,
     "metadata": {},
     "output_type": "execute_result"
    }
   ],
   "source": [
    "model.coef_"
   ]
  },
  {
   "cell_type": "code",
   "execution_count": 59,
   "id": "c8279c49",
   "metadata": {},
   "outputs": [
    {
     "data": {
      "text/plain": [
       "{'intercept': -0.5846483408461267,\n",
       " 'S_SPEED_DIFF': 0.3382223870266028,\n",
       " 'WEATHER_Bad_Weather': -0.28591290204750974,\n",
       " 'WEATHER_Clear': 0.01608315671313138,\n",
       " 'WEATHER_Rain': -0.3139767447850392,\n",
       " 'LIGHT_Dark': 0.005219365004001404,\n",
       " 'LIGHT_Daylight': -0.25967208556050336,\n",
       " 'LIGHT_Semi_Dark': -0.32935376956291446,\n",
       " 'ALCOHOL_NOTALCOHOL_No': -0.8562621544849812,\n",
       " 'ALCOHOL_NOTALCOHOL_Yes': 0.27245566436554297,\n",
       " 'DISTRACTED_NOTDISTRACTED_No': -0.2957850604234319,\n",
       " 'DISTRACTED_NOTDISTRACTED_Yes': -0.2880214296959401,\n",
       " 'DRUG_NODRUG_No': -0.6327684460776237,\n",
       " 'DRUG_NODRUG_Yes': 0.04896195595817203}"
      ]
     },
     "execution_count": 59,
     "metadata": {},
     "output_type": "execute_result"
    }
   ],
   "source": [
    "# print out the coefficient of logistic regression model\n",
    "def logreg_to_dict(clf: LogisticRegression, feature_names: list[str]) -> dict[str, float]:\n",
    "    coefs = np.concatenate([clf.intercept_, clf.coef_.squeeze()])\n",
    "    return dict(zip([\"intercept\"] + feature_names, coefs))\n",
    "coeff = logreg_to_dict(model, x_train.columns.to_list())\n",
    "coeff"
   ]
  },
  {
   "cell_type": "code",
   "execution_count": 43,
   "id": "fc636c6b",
   "metadata": {},
   "outputs": [
    {
     "data": {
      "text/plain": [
       "['S_SPEED_DIFF',\n",
       " 'WEATHER_Bad_Weather',\n",
       " 'WEATHER_Clear',\n",
       " 'WEATHER_Rain',\n",
       " 'LIGHT_Dark',\n",
       " 'LIGHT_Daylight',\n",
       " 'LIGHT_Semi_Dark',\n",
       " 'ALCOHOL_NOTALCOHOL_No',\n",
       " 'ALCOHOL_NOTALCOHOL_Yes',\n",
       " 'DISTRACTED_NOTDISTRACTED_No',\n",
       " 'DISTRACTED_NOTDISTRACTED_Yes',\n",
       " 'DRUG_NODRUG_No',\n",
       " 'DRUG_NODRUG_Yes']"
      ]
     },
     "execution_count": 43,
     "metadata": {},
     "output_type": "execute_result"
    }
   ],
   "source": [
    "x_train.columns.to_list()"
   ]
  },
  {
   "cell_type": "markdown",
   "id": "d5c78b8f",
   "metadata": {},
   "source": [
    "### Using the model ###"
   ]
  },
  {
   "cell_type": "code",
   "execution_count": 74,
   "id": "a79c61c7",
   "metadata": {},
   "outputs": [
    {
     "name": "stdout",
     "output_type": "stream",
     "text": [
      "How much faster are you going compared to the speed limit? (mph): 0\n",
      "What weather condition are you driving in? (Clear/Rain/Bad): Clear\n",
      "What is the light level outside? (Daylight/SemiDark/Dark): Daylight\n",
      "Did you drink alcohol before driving? (y/n): n\n",
      "Did you do drugs before driving? (y/n): n\n",
      "Are you distracted when driving? (y/n): n\n",
      "[-1.2752444072735531, 0, 1, 0, 0, 1, 0, 1, 0, 1, 0, 1, 0]\n"
     ]
    }
   ],
   "source": [
    "import math\n",
    "\n",
    "#make functions to have user input to calc model\n",
    "\n",
    "def speed_CAL():\n",
    "    while True:\n",
    "        speed = int(input(\"How much faster are you going compared to the speed limit? (mph): \"))\n",
    "        try:  \n",
    "            if speed < 0:\n",
    "                raise ValueError\n",
    "            elif speed <= 100:\n",
    "                #x = 1/(1+math.exp((13.656724576249337-speed)/10.709103681110932))\n",
    "                s = (speed-13.656724576249337)/10.709103681110932\n",
    "                return [s]\n",
    "            else:\n",
    "                #x = 1/(1+math.exp((13.656724576249337-100)/10.709103681110932))\n",
    "                s = (100-13.656724576249337)/10.709103681110932\n",
    "                return [s]\n",
    "        except ValueError:\n",
    "            print(\"Please insert an integer greater than or equal to zero\")\n",
    "            pass\n",
    "\n",
    "\n",
    "def weather_CAL():\n",
    "    while True:\n",
    "        w = input(\"What weather condition are you driving in? (Clear/Rain/Bad): \")\n",
    "        try:\n",
    "            if w == \"Clear\":\n",
    "                return [0,1,0]\n",
    "            elif w == \"Rain\":\n",
    "                return [0,0,1]\n",
    "            elif w == \"Bad\":\n",
    "                return [1,0,0]\n",
    "            else:\n",
    "                raise ValueError\n",
    "        except ValueError:\n",
    "            print(\"Please insert one of the choices listed\")\n",
    "            pass\n",
    "\n",
    "def light_CAL():\n",
    "    while True:\n",
    "        light = input(\"What is the light level outside? (Daylight/SemiDark/Dark): \")\n",
    "        try:\n",
    "            if light == \"Daylight\":\n",
    "                return [0,1,0]\n",
    "            elif light == \"SemiDark\":\n",
    "                return [0,0,1]\n",
    "            elif light == \"Dark\":\n",
    "                return [1,0,0]\n",
    "            else:\n",
    "                raise ValueError\n",
    "        except ValueError:\n",
    "            print(\"Please insert one of the choices listed\")\n",
    "            pass\n",
    "\n",
    "def Alc():\n",
    "    while True:\n",
    "        ALC = input(\"Did you drink alcohol before driving? (y/n): \")\n",
    "        try:\n",
    "            if ALC == \"y\":\n",
    "                return [0,1]\n",
    "            elif ALC == \"n\":\n",
    "                return [1,0]\n",
    "            else:\n",
    "                raise ValueError\n",
    "        except ValueError:\n",
    "            print(\"Please insert y or n\")\n",
    "            pass\n",
    "\n",
    "def Drug():\n",
    "    while True:\n",
    "        Drug = input(\"Did you do drugs before driving? (y/n): \")\n",
    "        try:\n",
    "            if Drug == \"y\":\n",
    "                return [0,1]\n",
    "            elif Drug == \"n\":\n",
    "                return [1,0]\n",
    "            else:\n",
    "                raise ValueError\n",
    "        except ValueError:\n",
    "            print(\"Please insert y or n\")\n",
    "            pass\n",
    "\n",
    "def Distract():\n",
    "    while True:\n",
    "        dis = input(\"Are you distracted when driving? (y/n): \")\n",
    "        try:\n",
    "            if dis == \"y\":\n",
    "                return [0,1]\n",
    "            elif dis == \"n\":\n",
    "                return [1,0]\n",
    "            else:\n",
    "                raise ValueError\n",
    "        except ValueError:\n",
    "            print(\"Please insert y or n\")\n",
    "            pass\n",
    "\n",
    "user_array = []\n",
    "for i in [speed_CAL(), weather_CAL(), light_CAL(), Alc(), Drug(), Distract()]:\n",
    "        x = i\n",
    "        if len(x)==1:\n",
    "            user_array.append(x[0])\n",
    "        else:\n",
    "            for j in range(len(x)):\n",
    "                user_array.append(x[j])\n",
    "\n",
    "print(user_array)"
   ]
  },
  {
   "cell_type": "code",
   "execution_count": 61,
   "id": "69ba592b",
   "metadata": {},
   "outputs": [],
   "source": [
    "coeff = {'intercept': -0.5846483408461267,\n",
    " 'S_SPEED_DIFF': 0.3382223870266028,\n",
    " 'WEATHER_Bad_Weather': -0.28591290204750974,\n",
    " 'WEATHER_Clear': 0.01608315671313138,\n",
    " 'WEATHER_Rain': -0.3139767447850392,\n",
    " 'LIGHT_Dark': 0.005219365004001404,\n",
    " 'LIGHT_Daylight': -0.25967208556050336,\n",
    " 'LIGHT_Semi_Dark': -0.32935376956291446,\n",
    " 'ALCOHOL_NOTALCOHOL_No': -0.8562621544849812,\n",
    " 'ALCOHOL_NOTALCOHOL_Yes': 0.27245566436554297,\n",
    " 'DISTRACTED_NOTDISTRACTED_No': -0.2957850604234319,\n",
    " 'DISTRACTED_NOTDISTRACTED_Yes': -0.2880214296959401,\n",
    " 'DRUG_NODRUG_No': -0.6327684460776237,\n",
    " 'DRUG_NODRUG_Yes': 0.04896195595817203}\n",
    "\n",
    "var_list = ['S_SPEED_DIFF',\n",
    " 'WEATHER_Bad_Weather',\n",
    " 'WEATHER_Clear',\n",
    " 'WEATHER_Rain',\n",
    " 'LIGHT_Dark',\n",
    " 'LIGHT_Daylight',\n",
    " 'LIGHT_Semi_Dark',\n",
    " 'ALCOHOL_NOTALCOHOL_No',\n",
    " 'ALCOHOL_NOTALCOHOL_Yes',\n",
    " 'DISTRACTED_NOTDISTRACTED_No',\n",
    " 'DISTRACTED_NOTDISTRACTED_Yes',\n",
    " 'DRUG_NODRUG_No',\n",
    " 'DRUG_NODRUG_Yes']"
   ]
  },
  {
   "cell_type": "code",
   "execution_count": 75,
   "id": "69de8be5",
   "metadata": {},
   "outputs": [
    {
     "data": {
      "text/plain": [
       "{'S_SPEED_DIFF': -1.2752444072735531,\n",
       " 'WEATHER_Bad_Weather': 0,\n",
       " 'WEATHER_Clear': 1,\n",
       " 'WEATHER_Rain': 0,\n",
       " 'LIGHT_Dark': 0,\n",
       " 'LIGHT_Daylight': 1,\n",
       " 'LIGHT_Semi_Dark': 0,\n",
       " 'ALCOHOL_NOTALCOHOL_No': 1,\n",
       " 'ALCOHOL_NOTALCOHOL_Yes': 0,\n",
       " 'DISTRACTED_NOTDISTRACTED_No': 1,\n",
       " 'DISTRACTED_NOTDISTRACTED_Yes': 0,\n",
       " 'DRUG_NODRUG_No': 1,\n",
       " 'DRUG_NODRUG_Yes': 0}"
      ]
     },
     "execution_count": 75,
     "metadata": {},
     "output_type": "execute_result"
    }
   ],
   "source": [
    "feat = dict(zip(var_list, user_array))\n",
    "feat"
   ]
  },
  {
   "cell_type": "code",
   "execution_count": 76,
   "id": "22c48321",
   "metadata": {},
   "outputs": [
    {
     "name": "stdout",
     "output_type": "stream",
     "text": [
      "The probability of fatal if crash happened: 4.5%\n",
      "The probability of fatal crash increased by: 0.05%\n",
      "The total probability of fatal crash if crash happened is: 4.55%\n"
     ]
    }
   ],
   "source": [
    "score = coeff['intercept']\n",
    "for var in var_list:\n",
    "    score += coeff[var]*feat[var]\n",
    "p = 1/(1+math.exp(-score))\n",
    "increase_p = p - 0.0454611973458229\n",
    "\n",
    "print(\"The probability of fatal if crash happened: \" + str(round(0.0454611973458229*100, 2)) +\"%\")\n",
    "print(\"The probability of fatal crash increased by: \" + str(round(increase_p*100, 2)) + \"%\")\n",
    "print(\"The total probability of fatal crash if crash happened is: \" + str(round(p*100,2)) + \"%\")\n"
   ]
  }
 ],
 "metadata": {
  "kernelspec": {
   "display_name": "Python 3 (ipykernel)",
   "language": "python",
   "name": "python3"
  },
  "language_info": {
   "codemirror_mode": {
    "name": "ipython",
    "version": 3
   },
   "file_extension": ".py",
   "mimetype": "text/x-python",
   "name": "python",
   "nbconvert_exporter": "python",
   "pygments_lexer": "ipython3",
   "version": "3.9.13"
  }
 },
 "nbformat": 4,
 "nbformat_minor": 5
}
